{
 "cells": [
  {
   "cell_type": "markdown",
   "id": "c4eea62c-be6a-45e6-9b69-99cbf7524c6f",
   "metadata": {},
   "source": [
    "![](./lab%20header%20image.png)"
   ]
  },
  {
   "cell_type": "markdown",
   "id": "6e66a82e-3c64-4e56-8d7c-b15835e618a7",
   "metadata": {},
   "source": [
    "<div style=\"text-align: center;\">\n",
    "    <h3>Experiment No. 01</h3>\n",
    "</div>"
   ]
  },
  {
   "cell_type": "markdown",
   "id": "9c407c38-a93b-428d-ad91-6865b43970f1",
   "metadata": {},
   "source": [
    "<img src=\"./Student%20Information.png\" style=\"width: 100%;\" alt=\"Student Information\">"
   ]
  },
  {
   "cell_type": "markdown",
   "id": "445eedca-8bc9-493b-bfbd-681db5fbb355",
   "metadata": {},
   "source": [
    "<div style=\"border: 1px solid #ccc; padding: 8px; background-color: #f0f0f0; text-align: center;\">\n",
    "    <strong>AIM</strong>\n",
    "</div>"
   ]
  },
  {
   "cell_type": "markdown",
   "id": "fe7a2524-23ae-4df1-af53-9c834d2f54f4",
   "metadata": {},
   "source": [
    "**Implement bottom-up parser for given grammer**"
   ]
  },
  {
   "cell_type": "code",
   "execution_count": 2,
   "id": "7e3de4e5-d3aa-43d8-abc5-04af96fe7560",
   "metadata": {},
   "outputs": [],
   "source": [
    "import pandas as pd\n",
    "\n",
    "class ShiftReduceParser:\n",
    "    def __init__(self, grammar_rules, start_symbol):\n",
    "        self.grammar = self.parse_grammar(grammar_rules)\n",
    "        self.start_symbol = start_symbol\n",
    "        self.stack = ['$']\n",
    "        self.buffer = []\n",
    "\n",
    "    def parse_grammar(self, grammar_rules):\n",
    "        grammar = {}\n",
    "        for rule in grammar_rules:\n",
    "            lhs, rhs = rule.split('->')\n",
    "            lhs = lhs.strip()\n",
    "            rhs = rhs.strip()\n",
    "            if lhs in grammar:\n",
    "                grammar[lhs].append(rhs)\n",
    "            else:\n",
    "                grammar[lhs] = [rhs]\n",
    "        return grammar\n",
    "\n",
    "    def get_action(self):\n",
    "        # Check for reduction\n",
    "        for lhs, rhs_list in self.grammar.items():\n",
    "            for rhs in rhs_list:\n",
    "                if ' '.join(self.stack[-len(rhs.split()):]) == rhs:\n",
    "                    return f\"Reduce {lhs}->{rhs}\"\n",
    "        \n",
    "        # Check for shift\n",
    "        if self.buffer[0] != '$':\n",
    "            return f\"Shift {self.buffer[0]}\"\n",
    "        \n",
    "        # Check for accept\n",
    "        if len(self.stack) == 2 and self.stack[1] == self.start_symbol and self.buffer == ['$']:\n",
    "            return \"Accept\"\n",
    "        \n",
    "        raise ValueError(\"No valid action found\")\n",
    "\n",
    "    def shift(self):\n",
    "        self.stack.append(self.buffer.pop(0))\n",
    "\n",
    "    def reduce(self, production):\n",
    "        lhs, rhs = production.split('->')\n",
    "        rhs_tokens = rhs.split()\n",
    "        self.stack = self.stack[:-len(rhs_tokens)] + [lhs]\n",
    "\n",
    "    def parse_input(self, input_string):\n",
    "        self.stack = ['$']\n",
    "        self.buffer = input_string.split() + ['$']\n",
    "        results = []\n",
    "\n",
    "        while True:\n",
    "            results.append({\n",
    "                'Stack': ' '.join(self.stack),\n",
    "                'Input Buffer': ' '.join(self.buffer),\n",
    "                'Parsing Action': ''\n",
    "            })\n",
    "\n",
    "            try:\n",
    "                action = self.get_action()\n",
    "            except ValueError as e:\n",
    "                results[-1]['Parsing Action'] = f\"Error: {str(e)}\"\n",
    "                break\n",
    "\n",
    "            results[-1]['Parsing Action'] = action\n",
    "\n",
    "            if action == \"Accept\":\n",
    "                break\n",
    "            elif action.startswith(\"Shift\"):\n",
    "                self.shift()\n",
    "            elif action.startswith(\"Reduce\"):\n",
    "                self.reduce(action.split(' ', 1)[1])\n",
    "            else:\n",
    "                results[-1]['Parsing Action'] = f\"Error: Invalid action {action}\"\n",
    "                break\n",
    "\n",
    "        return pd.DataFrame(results)"
   ]
  },
  {
   "cell_type": "code",
   "execution_count": 4,
   "id": "5b154d39-74aa-4a4a-9940-cede919a6a78",
   "metadata": {},
   "outputs": [
    {
     "data": {
      "text/html": [
       "<div>\n",
       "<style scoped>\n",
       "    .dataframe tbody tr th:only-of-type {\n",
       "        vertical-align: middle;\n",
       "    }\n",
       "\n",
       "    .dataframe tbody tr th {\n",
       "        vertical-align: top;\n",
       "    }\n",
       "\n",
       "    .dataframe thead th {\n",
       "        text-align: right;\n",
       "    }\n",
       "</style>\n",
       "<table border=\"1\" class=\"dataframe\">\n",
       "  <thead>\n",
       "    <tr style=\"text-align: right;\">\n",
       "      <th></th>\n",
       "      <th>Stack</th>\n",
       "      <th>Input Buffer</th>\n",
       "      <th>Parsing Action</th>\n",
       "    </tr>\n",
       "  </thead>\n",
       "  <tbody>\n",
       "    <tr>\n",
       "      <th>0</th>\n",
       "      <td>$</td>\n",
       "      <td>id + id + id $</td>\n",
       "      <td>Shift id</td>\n",
       "    </tr>\n",
       "    <tr>\n",
       "      <th>1</th>\n",
       "      <td>$ id</td>\n",
       "      <td>+ id + id $</td>\n",
       "      <td>Reduce S-&gt;id</td>\n",
       "    </tr>\n",
       "    <tr>\n",
       "      <th>2</th>\n",
       "      <td>$ S</td>\n",
       "      <td>+ id + id $</td>\n",
       "      <td>Shift +</td>\n",
       "    </tr>\n",
       "    <tr>\n",
       "      <th>3</th>\n",
       "      <td>$ S +</td>\n",
       "      <td>id + id $</td>\n",
       "      <td>Shift id</td>\n",
       "    </tr>\n",
       "    <tr>\n",
       "      <th>4</th>\n",
       "      <td>$ S + id</td>\n",
       "      <td>+ id $</td>\n",
       "      <td>Reduce S-&gt;id</td>\n",
       "    </tr>\n",
       "    <tr>\n",
       "      <th>5</th>\n",
       "      <td>$ S + S</td>\n",
       "      <td>+ id $</td>\n",
       "      <td>Reduce S-&gt;S + S</td>\n",
       "    </tr>\n",
       "    <tr>\n",
       "      <th>6</th>\n",
       "      <td>$ S</td>\n",
       "      <td>+ id $</td>\n",
       "      <td>Shift +</td>\n",
       "    </tr>\n",
       "    <tr>\n",
       "      <th>7</th>\n",
       "      <td>$ S +</td>\n",
       "      <td>id $</td>\n",
       "      <td>Shift id</td>\n",
       "    </tr>\n",
       "    <tr>\n",
       "      <th>8</th>\n",
       "      <td>$ S + id</td>\n",
       "      <td>$</td>\n",
       "      <td>Reduce S-&gt;id</td>\n",
       "    </tr>\n",
       "    <tr>\n",
       "      <th>9</th>\n",
       "      <td>$ S + S</td>\n",
       "      <td>$</td>\n",
       "      <td>Reduce S-&gt;S + S</td>\n",
       "    </tr>\n",
       "    <tr>\n",
       "      <th>10</th>\n",
       "      <td>$ S</td>\n",
       "      <td>$</td>\n",
       "      <td>Accept</td>\n",
       "    </tr>\n",
       "  </tbody>\n",
       "</table>\n",
       "</div>"
      ],
      "text/plain": [
       "       Stack    Input Buffer   Parsing Action\n",
       "0          $  id + id + id $         Shift id\n",
       "1       $ id     + id + id $     Reduce S->id\n",
       "2        $ S     + id + id $          Shift +\n",
       "3      $ S +       id + id $         Shift id\n",
       "4   $ S + id          + id $     Reduce S->id\n",
       "5    $ S + S          + id $  Reduce S->S + S\n",
       "6        $ S          + id $          Shift +\n",
       "7      $ S +            id $         Shift id\n",
       "8   $ S + id               $     Reduce S->id\n",
       "9    $ S + S               $  Reduce S->S + S\n",
       "10       $ S               $           Accept"
      ]
     },
     "metadata": {},
     "output_type": "display_data"
    }
   ],
   "source": [
    "grammar_rules = [\n",
    "    \"S -> S + S\",\n",
    "    \"S -> S * S\",\n",
    "    \"S -> id\"\n",
    "]\n",
    "start_symbol = \"S\"\n",
    "input_string = \"id + id + id\"\n",
    "\n",
    "parser = ShiftReduceParser(grammar_rules, start_symbol)\n",
    "result = parser.parse_input(input_string)\n",
    "display(result)"
   ]
  },
  {
   "cell_type": "markdown",
   "id": "ab992f17-f9a0-477d-a948-d1307e838670",
   "metadata": {},
   "source": [
    "<div style=\"border: 1px solid #ccc; padding: 8px; background-color: #f0f0f0; text-align: center;\">\n",
    "    <strong>CONCLUSION</strong>\n",
    "</div>"
   ]
  },
  {
   "cell_type": "markdown",
   "id": "1f2814c1-f8f9-4094-872a-150db4e9b724",
   "metadata": {},
   "source": [
    "[CONCLUSION]"
   ]
  },
  {
   "cell_type": "markdown",
   "id": "883c7e0f-bfc4-4f83-b8cd-09825d2bb4ba",
   "metadata": {},
   "source": [
    "<div style=\"border: 1px solid #ccc; padding: 8px; background-color: #f0f0f0; text-align: center;\">\n",
    "    <strong>ASSESSMENT</strong>\n",
    "</div>"
   ]
  },
  {
   "cell_type": "markdown",
   "id": "e759ecfd-0552-401d-ad9c-09e6f26a8ed3",
   "metadata": {},
   "source": [
    "<img src=\"./marks_distribution.png\" style=\"width: 100%;\" alt=\"marks_distribution\">"
   ]
  }
 ],
 "metadata": {
  "kernelspec": {
   "display_name": "Python 3 (ipykernel)",
   "language": "python",
   "name": "python3"
  },
  "language_info": {
   "codemirror_mode": {
    "name": "ipython",
    "version": 3
   },
   "file_extension": ".py",
   "mimetype": "text/x-python",
   "name": "python",
   "nbconvert_exporter": "python",
   "pygments_lexer": "ipython3",
   "version": "3.12.2"
  }
 },
 "nbformat": 4,
 "nbformat_minor": 5
}
