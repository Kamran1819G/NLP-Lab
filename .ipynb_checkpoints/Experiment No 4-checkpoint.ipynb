{
 "cells": [
  {
   "cell_type": "markdown",
   "id": "c4eea62c-be6a-45e6-9b69-99cbf7524c6f",
   "metadata": {},
   "source": [
    "![](./lab%20header%20image.png)"
   ]
  },
  {
   "cell_type": "markdown",
   "id": "6e66a82e-3c64-4e56-8d7c-b15835e618a7",
   "metadata": {},
   "source": [
    "<div style=\"text-align: center;\">\n",
    "    <h3>Experiment No. 04</h3>\n",
    "</div>"
   ]
  },
  {
   "cell_type": "markdown",
   "id": "9c407c38-a93b-428d-ad91-6865b43970f1",
   "metadata": {},
   "source": [
    "<img src=\"./Student%20Information.png\" style=\"width: 100%;\" alt=\"Student Information\">"
   ]
  },
  {
   "cell_type": "markdown",
   "id": "445eedca-8bc9-493b-bfbd-681db5fbb355",
   "metadata": {},
   "source": [
    "<div style=\"border: 1px solid #ccc; padding: 8px; background-color: #f0f0f0; text-align: center;\">\n",
    "    <strong>AIM</strong>\n",
    "</div>"
   ]
  },
  {
   "cell_type": "markdown",
   "id": "fe7a2524-23ae-4df1-af53-9c834d2f54f4",
   "metadata": {},
   "source": [
    "**Study of Clustering Algorithm in NLP**"
   ]
  },
  {
   "cell_type": "markdown",
   "id": "753f1b94-260f-414c-8c1b-0e1b71b99e04",
   "metadata": {},
   "source": [
    "<div style=\"border: 1px solid #ccc; padding: 8px; background-color: #f0f0f0; text-align: center;\">\n",
    "    <strong>Theory/Procedure/Algorithm</strong>\n",
    "</div>"
   ]
  },
  {
   "cell_type": "markdown",
   "id": "7d072d40-3d52-4640-bdb1-b3e185f63f28",
   "metadata": {},
   "source": [
    "Clustering is a technique used in unsupervised machine learning to group a set of objects such that objects in the same group (or cluster) are more similar to each other than to those in other groups. In NLP, clustering algorithms are used to group similar documents or text snippets, which can be useful for tasks like topic modeling, document organization, and information retrieval.\n",
    "\n",
    "##### Common Clustering Algorithms:\n",
    "\n",
    "1. **K-Means Clustering**:\n",
    "    - **Theory**: K-Means is a centroid-based clustering algorithm that partitions data into K clusters. It assigns each data point to the nearest centroid and then recalculates centroids based on the mean of the points in each cluster. The process repeats until convergence.\n",
    "    - **Advantages**: Simple to implement and computationally efficient.\n",
    "    - **Disadvantages**: Requires specifying the number of clusters (K) beforehand and can be sensitive to outliers.\n",
    "\n",
    "2. **Hierarchical Clustering**:\n",
    "    - **Theory**: Hierarchical clustering builds a hierarchy of clusters either through agglomerative (bottom-up) or divisive (top-down) approaches. Agglomerative clustering starts with each data point as a separate cluster and merges the closest pairs, while divisive clustering starts with one cluster and recursively splits it.\n",
    "    - **Advantages**: Does not require specifying the number of clusters in advance and provides a dendrogram (tree-like diagram) of clusters.\n",
    "    - **Disadvantages**: Can be computationally expensive for large datasets and may not handle noise well.\n",
    "\n",
    "3. **DBSCAN (Density-Based Spatial Clustering of Applications with Noise)**:\n",
    "    - **Theory**: DBSCAN clusters data based on the density of data points. It defines clusters as areas of high density separated by areas of low density. Points that are in low-density regions are considered noise.\n",
    "    - **Advantages**: Can find arbitrarily shaped clusters and does not require specifying the number of clusters.\n",
    "    - **Disadvantages**: Sensitive to the choice of parameters and may struggle with varying densities."
   ]
  },
  {
   "cell_type": "markdown",
   "id": "38df2671-a313-47b5-bacc-9749d6b7534d",
   "metadata": {},
   "source": [
    "##### Dependencies"
   ]
  },
  {
   "cell_type": "code",
   "execution_count": 1,
   "id": "7e3de4e5-d3aa-43d8-abc5-04af96fe7560",
   "metadata": {},
   "outputs": [],
   "source": [
    "import numpy as np\n",
    "import pandas as pd\n",
    "from sklearn.feature_extraction.text import TfidfVectorizer\n",
    "from sklearn.cluster import KMeans, DBSCAN\n",
    "from sklearn.preprocessing import StandardScaler\n",
    "from scipy.cluster.hierarchy import dendrogram, linkage, fcluster\n",
    "import matplotlib.pyplot as plt"
   ]
  },
  {
   "cell_type": "markdown",
   "id": "d9712fcf-0822-4823-818b-1d7f666862a5",
   "metadata": {},
   "source": [
    "##### Data Preparation: Assume `documents` is a list of text documents."
   ]
  },
  {
   "cell_type": "code",
   "execution_count": 2,
   "id": "0693dd98-88d8-4443-bb10-caae53f710cd",
   "metadata": {},
   "outputs": [],
   "source": [
    "documents = [\n",
    "    \"Machine learning is a field of artificial intelligence.\",\n",
    "    \"Natural language processing involves understanding text.\",\n",
    "    \"Deep learning models are used for image recognition.\",\n",
    "    \"AI technologies include machine learning and neural networks.\",\n",
    "    \"Text classification is a part of NLP.\",\n",
    "    \"Neural networks can learn patterns in data.\",\n",
    "]\n",
    "\n",
    "# Convert documents to TF-IDF matrix\n",
    "vectorizer = TfidfVectorizer(stop_words='english')\n",
    "X = vectorizer.fit_transform(documents)"
   ]
  },
  {
   "cell_type": "code",
   "execution_count": 3,
   "id": "8d5f0eeb-f15e-4281-b52a-3c090b2ceaa0",
   "metadata": {},
   "outputs": [
    {
     "name": "stdout",
     "output_type": "stream",
     "text": [
      "K-Means Labels: [0 0 0 1 0 1]\n"
     ]
    }
   ],
   "source": [
    "# K-Means clustering\n",
    "kmeans = KMeans(n_clusters=2, random_state=42)\n",
    "kmeans_labels = kmeans.fit_predict(X)\n",
    "\n",
    "# Print results\n",
    "print(\"K-Means Labels:\", kmeans_labels)"
   ]
  },
  {
   "cell_type": "code",
   "execution_count": 4,
   "id": "b6d2a074-2ac1-48a1-a032-92fd86427d55",
   "metadata": {},
   "outputs": [
    {
     "data": {
      "image/png": "[encoded data removed]",
      "text/plain": [
       "<Figure size 1000x700 with 1 Axes>"
      ]
     },
     "metadata": {},
     "output_type": "display_data"
    },
    {
     "name": "stdout",
     "output_type": "stream",
     "text": [
      "Hierarchical Clustering Labels: [2 1 2 2 1 2]\n"
     ]
    }
   ],
   "source": [
    "# Hierarchical clustering\n",
    "linked = linkage(X.toarray(), 'ward')\n",
    "plt.figure(figsize=(8, 5))\n",
    "dendrogram(linked, orientation='top', distance_sort='descending', show_leaf_counts=True)\n",
    "plt.title('Hierarchical Clustering Dendrogram')\n",
    "plt.show()\n",
    "\n",
    "# Cut the dendrogram to form flat clusters\n",
    "hierarchical_labels = fcluster(linked, t=2, criterion='maxclust')\n",
    "print(\"Hierarchical Clustering Labels:\", hierarchical_labels)"
   ]
  },
  {
   "cell_type": "code",
   "execution_count": 5,
   "id": "f9c536b1-8b87-4ca6-9b31-ab849338deeb",
   "metadata": {},
   "outputs": [
    {
     "name": "stdout",
     "output_type": "stream",
     "text": [
      "DBSCAN Labels: [-1 -1 -1 -1 -1 -1]\n"
     ]
    }
   ],
   "source": [
    "# Standardize the features\n",
    "scaler = StandardScaler(with_mean=False)\n",
    "X_scaled = scaler.fit_transform(X.toarray())\n",
    "\n",
    "# DBSCAN clustering\n",
    "dbscan = DBSCAN(eps=0.5, min_samples=2)\n",
    "dbscan_labels = dbscan.fit_predict(X_scaled)\n",
    "\n",
    "# Print results\n",
    "print(\"DBSCAN Labels:\", dbscan_labels)"
   ]
  },
  {
   "cell_type": "markdown",
   "id": "ab992f17-f9a0-477d-a948-d1307e838670",
   "metadata": {},
   "source": [
    "<div style=\"border: 1px solid #ccc; padding: 8px; background-color: #f0f0f0; text-align: center;\">\n",
    "    <strong>CONCLUSION</strong>\n",
    "</div>"
   ]
  },
  {
   "cell_type": "markdown",
   "id": "1f2814c1-f8f9-4094-872a-150db4e9b724",
   "metadata": {},
   "source": [
    "In this case study, the CYK algorithm was used to determine whether the sentence \"the cat chased the mouse\" can be generated by the given CFG. The results indicate:\n",
    "\n",
    "1. **Correctness**: The CYK algorithm accurately checks whether the sentence adheres to the rules of the provided CFG.\n",
    "2. **Grammar Flexibility**: The example grammar demonstrates the use of various CFG rules including noun phrases (NP), verb phrases (VP), and prepositional phrases (PP), showing the CYK algorithm's capability to handle complex grammatical structures.\n",
    "3. **Practical Application**: The CYK algorithm is effective for parsing sentences according to context-free grammars, making it a valuable tool in computational linguistics and natural language processing.\n",
    "\n",
    "The CYK algorithm provides a robust method for parsing and understanding sentences, especially in the context of well-defined CFGs."
   ]
  },
  {
   "cell_type": "markdown",
   "id": "883c7e0f-bfc4-4f83-b8cd-09825d2bb4ba",
   "metadata": {},
   "source": [
    "<div style=\"border: 1px solid #ccc; padding: 8px; background-color: #f0f0f0; text-align: center;\">\n",
    "    <strong>ASSESSMENT</strong>\n",
    "</div>"
   ]
  },
  {
   "cell_type": "markdown",
   "id": "e759ecfd-0552-401d-ad9c-09e6f26a8ed3",
   "metadata": {},
   "source": [
    "<img src=\"./marks_distribution.png\" style=\"width: 100%;\" alt=\"marks_distribution\">"
   ]
  }
 ],
 "metadata": {
  "kernelspec": {
   "display_name": "Python 3 (ipykernel)",
   "language": "python",
   "name": "python3"
  },
  "language_info": {
   "codemirror_mode": {
    "name": "ipython",
    "version": 3
   },
   "file_extension": ".py",
   "mimetype": "text/x-python",
   "name": "python",
   "nbconvert_exporter": "python",
   "pygments_lexer": "ipython3",
   "version": "3.12.2"
  }
 },
 "nbformat": 4,
 "nbformat_minor": 5
}
