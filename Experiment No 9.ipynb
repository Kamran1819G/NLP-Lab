{
 "cells": [
  {
   "cell_type": "markdown",
   "id": "c4eea62c-be6a-45e6-9b69-99cbf7524c6f",
   "metadata": {},
   "source": [
    "![](./lab%20header%20image.png)"
   ]
  },
  {
   "cell_type": "markdown",
   "id": "6e66a82e-3c64-4e56-8d7c-b15835e618a7",
   "metadata": {},
   "source": [
    "<div style=\"text-align: center;\">\n",
    "    <h3>Experiment No. 09</h3>\n",
    "</div>"
   ]
  },
  {
   "cell_type": "markdown",
   "id": "9c407c38-a93b-428d-ad91-6865b43970f1",
   "metadata": {},
   "source": [
    "<img src=\"./Student%20Information.png\" style=\"width: 100%;\" alt=\"Student Information\">"
   ]
  },
  {
   "cell_type": "markdown",
   "id": "445eedca-8bc9-493b-bfbd-681db5fbb355",
   "metadata": {},
   "source": [
    "<div style=\"border: 1px solid #ccc; padding: 8px; background-color: #f0f0f0; text-align: center;\">\n",
    "    <strong>AIM</strong>\n",
    "</div>"
   ]
  },
  {
   "cell_type": "markdown",
   "id": "fe7a2524-23ae-4df1-af53-9c834d2f54f4",
   "metadata": {},
   "source": [
    "**Installation and Verification of NLTK Toolkit for Natural Language Processing**"
   ]
  },
  {
   "cell_type": "markdown",
   "id": "753f1b94-260f-414c-8c1b-0e1b71b99e04",
   "metadata": {},
   "source": [
    "<div style=\"border: 1px solid #ccc; padding: 8px; background-color: #f0f0f0; text-align: center;\">\n",
    "    <strong>Theory/Procedure/Algorithm</strong>\n",
    "</div>"
   ]
  },
  {
   "cell_type": "markdown",
   "id": "7d072d40-3d52-4640-bdb1-b3e185f63f28",
   "metadata": {},
   "source": [
    "Natural Language Processing (NLP) is a subfield of artificial intelligence that enables computers to understand, interpret, and generate human language. Python has several libraries that support NLP tasks, and one of the most popular ones is the NLTK.\n",
    "\n",
    "**NLTK (Natural Language Toolkit)** is a powerful library designed for processing and analyzing text. It offers a variety of modules to carry out different tasks in NLP, such as:\n",
    "\n",
    "- **Tokenization** (splitting text into words or sentences),\n",
    "- **Stemming** (reducing words to their base form),\n",
    "- **Tagging** (assigning part-of-speech tags to words),\n",
    "- **Parsing** (analyzing the grammatical structure of sentences),\n",
    "- **Text classification** (categorizing text data),\n",
    "- **Corpora access** (access to preloaded large datasets of texts), and much more.\n",
    "\n",
    "By installing NLTK, one gains access to numerous tools and datasets to facilitate research and development in NLP."
   ]
  },
  {
   "cell_type": "markdown",
   "id": "d64a3903-4ef3-4640-8877-a49e033ad437",
   "metadata": {},
   "source": [
    "##### Implementation:\n",
    "\n",
    "The following steps outline the process of installing and setting up the NLTK toolkit in Python:\n",
    "\n",
    "**Step 1: Install Python (if not already installed)** NLTK is compatible with Python 3.x, so ensure Python is installed in your system. If not, download and install Python from the official website python.org.\n",
    "\n",
    "**Step 2: Install NLTK using pip** To install NLTK, use the package manager pip. This can be done by running the following command in your terminal or command prompt:\n",
    "\n",
    "```\n",
    "pip install nltk\n",
    "```\n",
    "\n",
    "This command downloads and installs the NLTK library along with its dependencies.\n",
    "\n",
    "**Step 3: Verify Installation** After installation, open a Python interpreter or a Jupyter Notebook and import the NLTK library:\n",
    "\n",
    "```\n",
    "import nltk\n",
    "```\n",
    "If there are no errors, the installation is successful.\n",
    "\n",
    "**Step 4: Download NLTK resources** NLTK comes with several built-in corpora, pre-trained models, and other data resources. To download these resources, use the following command:\n",
    "\n",
    "```\n",
    "nltk.download()\n",
    "```\n",
    "This opens up a graphical interface where you can select and download various NLTK packages (such as tokenizers, corpora, etc.).\n",
    "\n",
    "**Step 5: Sample Test of NLTK Installation** To check if NLTK is working properly, you can perform a simple test by tokenizing a sentence:"
   ]
  },
  {
   "cell_type": "code",
   "execution_count": 1,
   "id": "3c22324e-806e-4b1f-9695-8807aa964d9c",
   "metadata": {},
   "outputs": [
    {
     "name": "stdout",
     "output_type": "stream",
     "text": [
      "['Natural', 'Language', 'Processing', 'is', 'fascinating', '!']\n"
     ]
    }
   ],
   "source": [
    "from nltk.tokenize import word_tokenize\n",
    "\n",
    "sentence = \"Natural Language Processing is fascinating!\"\n",
    "tokens = word_tokenize(sentence)\n",
    "print(tokens)"
   ]
  },
  {
   "cell_type": "markdown",
   "id": "1ccad6e2-5535-4bff-9609-eaa218afbeca",
   "metadata": {},
   "source": [
    "##### Explanation:\n",
    "\n",
    "The steps above guide through installing NLTK in a Python environment. First, we install the library using `pip`, and then verify its installation by importing the library in Python. NLTK contains many additional resources that are not downloaded with the initial package, so we manually download them using `nltk.download()`.\n",
    "\n",
    "By performing a simple tokenization test, we ensure that the library is working correctly. Tokenization is the process of splitting a string of text into individual words or tokens. It is a common first step in most NLP tasks."
   ]
  },
  {
   "cell_type": "markdown",
   "id": "ab992f17-f9a0-477d-a948-d1307e838670",
   "metadata": {},
   "source": [
    "<div style=\"border: 1px solid #ccc; padding: 8px; background-color: #f0f0f0; text-align: center;\">\n",
    "    <strong>CONCLUSION</strong>\n",
    "</div>"
   ]
  },
  {
   "cell_type": "markdown",
   "id": "1f2814c1-f8f9-4094-872a-150db4e9b724",
   "metadata": {},
   "source": [
    "The experiment was successfully conducted, and the NLTK library was installed and verified in a Python environment. The tokenization of a sample sentence confirmed that NLTK is functioning as expected.\n",
    "\n",
    "This setup enables further NLP research and development. By using NLTK, we can access a wealth of pre-built tools and datasets that are essential for analyzing text data, making it a valuable resource for natural language processing projects."
   ]
  },
  {
   "cell_type": "markdown",
   "id": "883c7e0f-bfc4-4f83-b8cd-09825d2bb4ba",
   "metadata": {},
   "source": [
    "<div style=\"border: 1px solid #ccc; padding: 8px; background-color: #f0f0f0; text-align: center;\">\n",
    "    <strong>ASSESSMENT</strong>\n",
    "</div>"
   ]
  },
  {
   "cell_type": "markdown",
   "id": "e759ecfd-0552-401d-ad9c-09e6f26a8ed3",
   "metadata": {},
   "source": [
    "<img src=\"./marks_distribution.png\" style=\"width: 100%;\" alt=\"marks_distribution\">"
   ]
  }
 ],
 "metadata": {
  "kernelspec": {
   "display_name": "Python 3 (ipykernel)",
   "language": "python",
   "name": "python3"
  },
  "language_info": {
   "codemirror_mode": {
    "name": "ipython",
    "version": 3
   },
   "file_extension": ".py",
   "mimetype": "text/x-python",
   "name": "python",
   "nbconvert_exporter": "python",
   "pygments_lexer": "ipython3",
   "version": "3.12.2"
  }
 },
 "nbformat": 4,
 "nbformat_minor": 5
}
