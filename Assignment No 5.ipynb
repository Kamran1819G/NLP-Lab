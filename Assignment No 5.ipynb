{
 "cells": [
  {
   "cell_type": "markdown",
   "metadata": {},
   "source": [
    "![](./lab%20header%20image.png)"
   ]
  },
  {
   "cell_type": "markdown",
   "metadata": {},
   "source": [
    "<div style=\"text-align: center;\">\n",
    "    <h3>Assignment No. 05</h3>\n",
    "</div>"
   ]
  },
  {
   "cell_type": "markdown",
   "metadata": {},
   "source": [
    "<img src=\"./Student%20Information.png\" style=\"width: 100%;\" alt=\"Student Information\">"
   ]
  },
  {
   "cell_type": "markdown",
   "metadata": {},
   "source": [
    "<div style=\"border: 1px solid #ccc; padding: 8px; background-color: #f0f0f0; text-align: start;\">\n",
    "    <strong>Q. How can you build a search engine using Elasticsearch to handle efficient full-text search, data indexing, and query processing? Set up Elasticsearch, index a collection of documents, run relevant search queries, and analyze the performance. In your analysis, explain how Elasticsearch optimizes search results and processes queries in real-world applications.</strong>\n",
    "</div>"
   ]
  },
  {
   "cell_type": "markdown",
   "metadata": {},
   "source": [
    "**1. What is Elasticsearch?** Elasticsearch is a distributed, RESTful search and analytics engine built on top of Apache Lucene. It is designed for full-text search and can handle structured and unstructured data. Elasticsearch provides powerful features like real-time indexing, distributed search, and scalability.\n",
    "\n",
    "**2. Core Concepts:**\n",
    "\n",
    "- **Index**: A collection of documents that share similar characteristics. It is analogous to a database in traditional relational databases.\n",
    "- **Document**: A JSON object that contains the data. Each document is stored in an index.\n",
    "- **Field**: A key-value pair in a document (e.g., title, content).\n",
    "- **Shard**: A horizontal partition of an index that can be stored on different nodes.\n",
    "- **Replica**: A copy of a shard for redundancy and high availability.\n",
    "- **Inverted Index**: A data structure that maps terms to their locations in documents, allowing for fast full-text searches.\n",
    "\n",
    "**3. How Elasticsearch Optimizes Search Results:**\n",
    "\n",
    "- **Inverted Indexing**: This allows Elasticsearch to quickly look up which documents contain a specific term.\n",
    "- **Scoring and Relevance**: Elasticsearch uses algorithms like BM25 to rank search results based on relevance.\n",
    "- **Distributed Nature**: It can handle large volumes of data by distributing the load across multiple nodes and shards.\n",
    "- **Caching**: Elasticsearch caches the results of frequent queries to speed up response times."
   ]
  },
  {
   "cell_type": "code",
   "execution_count": null,
   "metadata": {},
   "outputs": [],
   "source": [
    "from elasticsearch import Elasticsearch\n",
    "from elasticsearch.helpers import bulk\n",
    "import time\n",
    "\n",
    "# Step 1: Connect to Elasticsearch\n",
    "es = Elasticsearch(\"http://localhost:9200\")\n",
    "\n",
    "# Check if Elasticsearch is up and running\n",
    "if not es.ping():\n",
    "    print(\"Elasticsearch is not available\")\n",
    "else:\n",
    "    print(\"Connected to Elasticsearch\")\n",
    "\n",
    "# Step 2: Create an Index\n",
    "def create_index(index_name):\n",
    "    if not es.indices.exists(index=index_name):\n",
    "        es.indices.create(index=index_name)\n",
    "        print(f\"Index '{index_name}' created.\")\n",
    "    else:\n",
    "        print(f\"Index '{index_name}' already exists.\")\n",
    "\n",
    "# Step 3: Index Documents\n",
    "def index_documents(index_name):\n",
    "    documents = [\n",
    "        {\"title\": \"Elasticsearch Basics\", \"content\": \"Elasticsearch is a distributed search engine.\"},\n",
    "        {\"title\": \"Advanced Elasticsearch\", \"content\": \"This document covers advanced topics in Elasticsearch.\"},\n",
    "        {\"title\": \"Full-text Search\", \"content\": \"Elasticsearch provides powerful full-text search capabilities.\"},\n",
    "        {\"title\": \"Search Optimization\", \"content\": \"Optimizing search queries is crucial for performance.\"},\n",
    "        {\"title\": \"Indexing Strategies\", \"content\": \"Choosing the right indexing strategy can improve performance.\"},\n",
    "    ]\n",
    "    \n",
    "    # Prepare the documents for bulk indexing\n",
    "    actions = [\n",
    "        {\n",
    "            \"_index\": index_name,\n",
    "            \"_id\": str(i + 1),\n",
    "            \"_source\": doc\n",
    "        }\n",
    "        for i, doc in enumerate(documents)\n",
    "    ]\n",
    "\n",
    "    bulk(es, actions)\n",
    "    print(f\"Indexed {len(documents)} documents into '{index_name}'.\")\n",
    "\n",
    "# Step 4: Perform a Search Query with Performance Analysis\n",
    "def search(index_name, search_term):\n",
    "    query = {\n",
    "        \"query\": {\n",
    "            \"match\": {\n",
    "                \"content\": search_term\n",
    "            }\n",
    "        }\n",
    "    }\n",
    "    \n",
    "    start_time = time.time()  # Start timing\n",
    "    response = es.search(index=index_name, body=query)\n",
    "    end_time = time.time()  # End timing\n",
    "\n",
    "    print(f\"\\nSearch results for '{search_term}':\")\n",
    "    print(f\"Response Time: {end_time - start_time:.4f} seconds\")\n",
    "    print(f\"Total Hits: {response['hits']['total']['value']}\")\n",
    "    for hit in response['hits']['hits']:\n",
    "        print(f\" - {hit['_source']['title']}: {hit['_source']['content']}\")\n",
    "\n",
    "# Step 5: Main Function\n",
    "def main():\n",
    "    index_name = \"documents\"\n",
    "    create_index(index_name)\n",
    "    index_documents(index_name)\n",
    "    \n",
    "    # Run some search queries\n",
    "    search(index_name, \"search\")\n",
    "    search(index_name, \"Elasticsearch\")\n",
    "    search(index_name, \"optimization\")\n",
    "    search(index_name, \"performance\")\n",
    "\n",
    "if __name__ == \"__main__\":\n",
    "    main()\n"
   ]
  },
  {
   "cell_type": "markdown",
   "metadata": {},
   "source": [
    "<div style=\"float: right; border: 1px solid black; display: inline-block; padding: 10px; text-align: center\">\n",
    "    <br>\n",
    "    <br>\n",
    "    <span style=\"font-weight: bold;\">Signature of Lab Incharge</span>\n",
    "    <br>\n",
    "    <span>(Prof. Rupali Sharma)</span> \n",
    "</div>"
   ]
  }
 ],
 "metadata": {
  "kernelspec": {
   "display_name": "Python 3 (ipykernel)",
   "language": "python",
   "name": "python3"
  },
  "language_info": {
   "codemirror_mode": {
    "name": "ipython",
    "version": 3
   },
   "file_extension": ".py",
   "mimetype": "text/x-python",
   "name": "python",
   "nbconvert_exporter": "python",
   "pygments_lexer": "ipython3",
   "version": "3.12.2"
  }
 },
 "nbformat": 4,
 "nbformat_minor": 4
}
